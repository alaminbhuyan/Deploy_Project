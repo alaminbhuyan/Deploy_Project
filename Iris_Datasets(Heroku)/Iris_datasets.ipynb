{
 "cells": [
  {
   "cell_type": "code",
   "execution_count": 1,
   "id": "detailed-aging",
   "metadata": {},
   "outputs": [
    {
     "name": "stderr",
     "output_type": "stream",
     "text": [
      "Matplotlib is building the font cache; this may take a moment.\n"
     ]
    }
   ],
   "source": [
    "import numpy as np\n",
    "import pandas as pd\n",
    "import seaborn as sns\n",
    "import matplotlib.pyplot as plt\n",
    "from sklearn.datasets import load_iris\n",
    "from sklearn.model_selection import train_test_split,cross_val_score\n",
    "from sklearn.metrics import accuracy_score,confusion_matrix\n",
    "from sklearn.neighbors import KNeighborsClassifier\n",
    "from sklearn.svm import SVC\n",
    "from sklearn.ensemble import RandomForestClassifier\n",
    "from sklearn.preprocessing import StandardScaler\n",
    "from sklearn.model_selection import GridSearchCV"
   ]
  },
  {
   "cell_type": "code",
   "execution_count": 2,
   "id": "north-fortune",
   "metadata": {},
   "outputs": [],
   "source": [
    "%matplotlib inline"
   ]
  },
  {
   "cell_type": "code",
   "execution_count": 3,
   "id": "expanded-welding",
   "metadata": {},
   "outputs": [],
   "source": [
    "data = load_iris()"
   ]
  },
  {
   "cell_type": "code",
   "execution_count": 4,
   "id": "disabled-delta",
   "metadata": {},
   "outputs": [
    {
     "name": "stdout",
     "output_type": "stream",
     "text": [
      ".. _iris_dataset:\n",
      "\n",
      "Iris plants dataset\n",
      "--------------------\n",
      "\n",
      "**Data Set Characteristics:**\n",
      "\n",
      "    :Number of Instances: 150 (50 in each of three classes)\n",
      "    :Number of Attributes: 4 numeric, predictive attributes and the class\n",
      "    :Attribute Information:\n",
      "        - sepal length in cm\n",
      "        - sepal width in cm\n",
      "        - petal length in cm\n",
      "        - petal width in cm\n",
      "        - class:\n",
      "                - Iris-Setosa\n",
      "                - Iris-Versicolour\n",
      "                - Iris-Virginica\n",
      "                \n",
      "    :Summary Statistics:\n",
      "\n",
      "    ============== ==== ==== ======= ===== ====================\n",
      "                    Min  Max   Mean    SD   Class Correlation\n",
      "    ============== ==== ==== ======= ===== ====================\n",
      "    sepal length:   4.3  7.9   5.84   0.83    0.7826\n",
      "    sepal width:    2.0  4.4   3.05   0.43   -0.4194\n",
      "    petal length:   1.0  6.9   3.76   1.76    0.9490  (high!)\n",
      "    petal width:    0.1  2.5   1.20   0.76    0.9565  (high!)\n",
      "    ============== ==== ==== ======= ===== ====================\n",
      "\n",
      "    :Missing Attribute Values: None\n",
      "    :Class Distribution: 33.3% for each of 3 classes.\n",
      "    :Creator: R.A. Fisher\n",
      "    :Donor: Michael Marshall (MARSHALL%PLU@io.arc.nasa.gov)\n",
      "    :Date: July, 1988\n",
      "\n",
      "The famous Iris database, first used by Sir R.A. Fisher. The dataset is taken\n",
      "from Fisher's paper. Note that it's the same as in R, but not as in the UCI\n",
      "Machine Learning Repository, which has two wrong data points.\n",
      "\n",
      "This is perhaps the best known database to be found in the\n",
      "pattern recognition literature.  Fisher's paper is a classic in the field and\n",
      "is referenced frequently to this day.  (See Duda & Hart, for example.)  The\n",
      "data set contains 3 classes of 50 instances each, where each class refers to a\n",
      "type of iris plant.  One class is linearly separable from the other 2; the\n",
      "latter are NOT linearly separable from each other.\n",
      "\n",
      ".. topic:: References\n",
      "\n",
      "   - Fisher, R.A. \"The use of multiple measurements in taxonomic problems\"\n",
      "     Annual Eugenics, 7, Part II, 179-188 (1936); also in \"Contributions to\n",
      "     Mathematical Statistics\" (John Wiley, NY, 1950).\n",
      "   - Duda, R.O., & Hart, P.E. (1973) Pattern Classification and Scene Analysis.\n",
      "     (Q327.D83) John Wiley & Sons.  ISBN 0-471-22361-1.  See page 218.\n",
      "   - Dasarathy, B.V. (1980) \"Nosing Around the Neighborhood: A New System\n",
      "     Structure and Classification Rule for Recognition in Partially Exposed\n",
      "     Environments\".  IEEE Transactions on Pattern Analysis and Machine\n",
      "     Intelligence, Vol. PAMI-2, No. 1, 67-71.\n",
      "   - Gates, G.W. (1972) \"The Reduced Nearest Neighbor Rule\".  IEEE Transactions\n",
      "     on Information Theory, May 1972, 431-433.\n",
      "   - See also: 1988 MLC Proceedings, 54-64.  Cheeseman et al\"s AUTOCLASS II\n",
      "     conceptual clustering system finds 3 classes in the data.\n",
      "   - Many, many more ...\n"
     ]
    }
   ],
   "source": [
    "print(data.DESCR)"
   ]
  },
  {
   "cell_type": "code",
   "execution_count": 5,
   "id": "restricted-default",
   "metadata": {},
   "outputs": [
    {
     "data": {
      "text/html": [
       "<div>\n",
       "<style scoped>\n",
       "    .dataframe tbody tr th:only-of-type {\n",
       "        vertical-align: middle;\n",
       "    }\n",
       "\n",
       "    .dataframe tbody tr th {\n",
       "        vertical-align: top;\n",
       "    }\n",
       "\n",
       "    .dataframe thead tr th {\n",
       "        text-align: left;\n",
       "    }\n",
       "</style>\n",
       "<table border=\"1\" class=\"dataframe\">\n",
       "  <thead>\n",
       "    <tr>\n",
       "      <th></th>\n",
       "      <th>sepal length (cm)</th>\n",
       "      <th>sepal width (cm)</th>\n",
       "      <th>petal length (cm)</th>\n",
       "      <th>petal width (cm)</th>\n",
       "      <th>target</th>\n",
       "    </tr>\n",
       "  </thead>\n",
       "  <tbody>\n",
       "    <tr>\n",
       "      <th>0</th>\n",
       "      <td>5.1</td>\n",
       "      <td>3.5</td>\n",
       "      <td>1.4</td>\n",
       "      <td>0.2</td>\n",
       "      <td>0.0</td>\n",
       "    </tr>\n",
       "    <tr>\n",
       "      <th>1</th>\n",
       "      <td>4.9</td>\n",
       "      <td>3.0</td>\n",
       "      <td>1.4</td>\n",
       "      <td>0.2</td>\n",
       "      <td>0.0</td>\n",
       "    </tr>\n",
       "    <tr>\n",
       "      <th>2</th>\n",
       "      <td>4.7</td>\n",
       "      <td>3.2</td>\n",
       "      <td>1.3</td>\n",
       "      <td>0.2</td>\n",
       "      <td>0.0</td>\n",
       "    </tr>\n",
       "    <tr>\n",
       "      <th>3</th>\n",
       "      <td>4.6</td>\n",
       "      <td>3.1</td>\n",
       "      <td>1.5</td>\n",
       "      <td>0.2</td>\n",
       "      <td>0.0</td>\n",
       "    </tr>\n",
       "    <tr>\n",
       "      <th>4</th>\n",
       "      <td>5.0</td>\n",
       "      <td>3.6</td>\n",
       "      <td>1.4</td>\n",
       "      <td>0.2</td>\n",
       "      <td>0.0</td>\n",
       "    </tr>\n",
       "  </tbody>\n",
       "</table>\n",
       "</div>"
      ],
      "text/plain": [
       "  sepal length (cm) sepal width (cm) petal length (cm) petal width (cm) target\n",
       "0               5.1              3.5               1.4              0.2    0.0\n",
       "1               4.9              3.0               1.4              0.2    0.0\n",
       "2               4.7              3.2               1.3              0.2    0.0\n",
       "3               4.6              3.1               1.5              0.2    0.0\n",
       "4               5.0              3.6               1.4              0.2    0.0"
      ]
     },
     "execution_count": 5,
     "metadata": {},
     "output_type": "execute_result"
    }
   ],
   "source": [
    "df = pd.DataFrame(data=np.c_[data.data,data.target],columns=[list(data.feature_names)+['target']])\n",
    "df.head()"
   ]
  },
  {
   "cell_type": "code",
   "execution_count": 6,
   "id": "confused-healthcare",
   "metadata": {},
   "outputs": [
    {
     "data": {
      "text/plain": [
       "(150, 5)"
      ]
     },
     "execution_count": 6,
     "metadata": {},
     "output_type": "execute_result"
    }
   ],
   "source": [
    "# see the shape\n",
    "df.shape"
   ]
  },
  {
   "cell_type": "code",
   "execution_count": 7,
   "id": "medical-moldova",
   "metadata": {},
   "outputs": [
    {
     "data": {
      "text/plain": [
       "(target,)\n",
       "0.0          50\n",
       "1.0          50\n",
       "2.0          50\n",
       "dtype: int64"
      ]
     },
     "execution_count": 7,
     "metadata": {},
     "output_type": "execute_result"
    }
   ],
   "source": [
    "df.target.value_counts()"
   ]
  },
  {
   "cell_type": "code",
   "execution_count": 8,
   "id": "ordinary-disaster",
   "metadata": {},
   "outputs": [
    {
     "data": {
      "text/plain": [
       "sepal length (cm)    0\n",
       "sepal width (cm)     0\n",
       "petal length (cm)    0\n",
       "petal width (cm)     0\n",
       "target               0\n",
       "dtype: int64"
      ]
     },
     "execution_count": 8,
     "metadata": {},
     "output_type": "execute_result"
    }
   ],
   "source": [
    "# Check null value\n",
    "df.isna().sum()"
   ]
  },
  {
   "cell_type": "code",
   "execution_count": 9,
   "id": "modified-blood",
   "metadata": {},
   "outputs": [],
   "source": [
    "# Change the columns name\n",
    "df.columns = ['sepal_length','sepal_width','petal_length','petal_width','target']"
   ]
  },
  {
   "cell_type": "code",
   "execution_count": 10,
   "id": "spatial-manchester",
   "metadata": {},
   "outputs": [
    {
     "data": {
      "text/html": [
       "<div>\n",
       "<style scoped>\n",
       "    .dataframe tbody tr th:only-of-type {\n",
       "        vertical-align: middle;\n",
       "    }\n",
       "\n",
       "    .dataframe tbody tr th {\n",
       "        vertical-align: top;\n",
       "    }\n",
       "\n",
       "    .dataframe thead th {\n",
       "        text-align: right;\n",
       "    }\n",
       "</style>\n",
       "<table border=\"1\" class=\"dataframe\">\n",
       "  <thead>\n",
       "    <tr style=\"text-align: right;\">\n",
       "      <th></th>\n",
       "      <th>sepal_length</th>\n",
       "      <th>sepal_width</th>\n",
       "      <th>petal_length</th>\n",
       "      <th>petal_width</th>\n",
       "      <th>target</th>\n",
       "    </tr>\n",
       "  </thead>\n",
       "  <tbody>\n",
       "    <tr>\n",
       "      <th>0</th>\n",
       "      <td>5.1</td>\n",
       "      <td>3.5</td>\n",
       "      <td>1.4</td>\n",
       "      <td>0.2</td>\n",
       "      <td>0.0</td>\n",
       "    </tr>\n",
       "    <tr>\n",
       "      <th>1</th>\n",
       "      <td>4.9</td>\n",
       "      <td>3.0</td>\n",
       "      <td>1.4</td>\n",
       "      <td>0.2</td>\n",
       "      <td>0.0</td>\n",
       "    </tr>\n",
       "    <tr>\n",
       "      <th>2</th>\n",
       "      <td>4.7</td>\n",
       "      <td>3.2</td>\n",
       "      <td>1.3</td>\n",
       "      <td>0.2</td>\n",
       "      <td>0.0</td>\n",
       "    </tr>\n",
       "  </tbody>\n",
       "</table>\n",
       "</div>"
      ],
      "text/plain": [
       "   sepal_length  sepal_width  petal_length  petal_width  target\n",
       "0           5.1          3.5           1.4          0.2     0.0\n",
       "1           4.9          3.0           1.4          0.2     0.0\n",
       "2           4.7          3.2           1.3          0.2     0.0"
      ]
     },
     "execution_count": 10,
     "metadata": {},
     "output_type": "execute_result"
    }
   ],
   "source": [
    "df.head(3)"
   ]
  },
  {
   "cell_type": "code",
   "execution_count": 11,
   "id": "acute-commander",
   "metadata": {},
   "outputs": [
    {
     "data": {
      "image/png": "[encoded data removed]",
      "text/plain": [
       "<Figure size 576x504 with 1 Axes>"
      ]
     },
     "metadata": {
      "needs_background": "light"
     },
     "output_type": "display_data"
    }
   ],
   "source": [
    "# target labels visualization using seaborn\n",
    "plt.figure(figsize=(8,7))\n",
    "sns.countplot(data=df,x='target')\n",
    "plt.show()"
   ]
  },
  {
   "cell_type": "code",
   "execution_count": 12,
   "id": "threaded-moses",
   "metadata": {},
   "outputs": [
    {
     "data": {
      "text/plain": [
       "sepal_length    0.782561\n",
       "sepal_width    -0.426658\n",
       "petal_length    0.949035\n",
       "petal_width     0.956547\n",
       "Name: target, dtype: float64"
      ]
     },
     "execution_count": 12,
     "metadata": {},
     "output_type": "execute_result"
    }
   ],
   "source": [
    "# Check the correlation\n",
    "df_corr = df.corr()['target'][:-1]\n",
    "df_corr"
   ]
  },
  {
   "cell_type": "code",
   "execution_count": 13,
   "id": "stuffed-technician",
   "metadata": {},
   "outputs": [
    {
     "data": {
      "image/png": "[encoded data removed]",
      "text/plain": [
       "<Figure size 720x576 with 2 Axes>"
      ]
     },
     "metadata": {
      "needs_background": "light"
     },
     "output_type": "display_data"
    }
   ],
   "source": [
    "# Check the correlation using heatmap\n",
    "plt.figure(figsize=(10,8))\n",
    "sns.heatmap(data=df.corr(),annot=True,cmap='coolwarm')\n",
    "plt.show()"
   ]
  },
  {
   "cell_type": "code",
   "execution_count": 14,
   "id": "loved-glass",
   "metadata": {},
   "outputs": [
    {
     "data": {
      "image/png": "[encoded data removed]",
      "text/plain": [
       "<Figure size 720x576 with 2 Axes>"
      ]
     },
     "metadata": {
      "needs_background": "light"
     },
     "output_type": "display_data"
    }
   ],
   "source": [
    "# Another way to see only lower triangle\n",
    "plt.figure(figsize=(10,8))\n",
    "corr_matrix = df.corr()\n",
    "matrix = np.triu(corr_matrix)\n",
    "sns.heatmap(data=corr_matrix,annot=True,mask=matrix,cmap=plt.cm.copper)\n",
    "plt.show()"
   ]
  },
  {
   "cell_type": "code",
   "execution_count": 15,
   "id": "stunning-industry",
   "metadata": {},
   "outputs": [
    {
     "data": {
      "text/plain": [
       "['sepal_length', 'sepal_width', 'petal_length', 'petal_width']"
      ]
     },
     "execution_count": 15,
     "metadata": {},
     "output_type": "execute_result"
    }
   ],
   "source": [
    "df_cols = [col for col in df.columns][:-1]\n",
    "df_cols"
   ]
  },
  {
   "cell_type": "code",
   "execution_count": 16,
   "id": "tested-drawing",
   "metadata": {
    "scrolled": true
   },
   "outputs": [
    {
     "data": {
      "text/plain": [
       "<Figure size 576x504 with 0 Axes>"
      ]
     },
     "metadata": {},
     "output_type": "display_data"
    },
    {
     "data": {
      "image/png": "[encoded data removed]",
      "text/plain": [
       "<Figure size 360x360 with 1 Axes>"
      ]
     },
     "metadata": {
      "needs_background": "light"
     },
     "output_type": "display_data"
    },
    {
     "data": {
      "text/plain": [
       "<Figure size 576x504 with 0 Axes>"
      ]
     },
     "metadata": {},
     "output_type": "display_data"
    },
    {
     "data": {
      "image/png": "[encoded data removed]",
      "text/plain": [
       "<Figure size 360x360 with 1 Axes>"
      ]
     },
     "metadata": {
      "needs_background": "light"
     },
     "output_type": "display_data"
    },
    {
     "data": {
      "text/plain": [
       "<Figure size 576x504 with 0 Axes>"
      ]
     },
     "metadata": {},
     "output_type": "display_data"
    },
    {
     "data": {
      "image/png": "[encoded data removed]",
      "text/plain": [
       "<Figure size 360x360 with 1 Axes>"
      ]
     },
     "metadata": {
      "needs_background": "light"
     },
     "output_type": "display_data"
    },
    {
     "data": {
      "text/plain": [
       "<Figure size 576x504 with 0 Axes>"
      ]
     },
     "metadata": {},
     "output_type": "display_data"
    },
    {
     "data": {
      "image/png": "[encoded data removed]",
      "text/plain": [
       "<Figure size 360x360 with 1 Axes>"
      ]
     },
     "metadata": {
      "needs_background": "light"
     },
     "output_type": "display_data"
    }
   ],
   "source": [
    "# Check the data distrubation\n",
    "for col in df_cols:\n",
    "    plt.figure(figsize=(8,7))\n",
    "    sns.displot(data=df,x=col)\n",
    "    plt.show()"
   ]
  },
  {
   "cell_type": "code",
   "execution_count": 17,
   "id": "complicated-luxembourg",
   "metadata": {
    "scrolled": true
   },
   "outputs": [
    {
     "data": {
      "text/plain": [
       "<Figure size 576x504 with 0 Axes>"
      ]
     },
     "metadata": {},
     "output_type": "display_data"
    },
    {
     "data": {
      "image/png": "[encoded data removed]",
      "text/plain": [
       "<Figure size 411.875x360 with 1 Axes>"
      ]
     },
     "metadata": {
      "needs_background": "light"
     },
     "output_type": "display_data"
    },
    {
     "data": {
      "text/plain": [
       "<Figure size 576x504 with 0 Axes>"
      ]
     },
     "metadata": {},
     "output_type": "display_data"
    },
    {
     "data": {
      "image/png": "[encoded data removed]",
      "text/plain": [
       "<Figure size 411.875x360 with 1 Axes>"
      ]
     },
     "metadata": {
      "needs_background": "light"
     },
     "output_type": "display_data"
    },
    {
     "data": {
      "text/plain": [
       "<Figure size 576x504 with 0 Axes>"
      ]
     },
     "metadata": {},
     "output_type": "display_data"
    },
    {
     "data": {
      "image/png": "[encoded data removed]",
      "text/plain": [
       "<Figure size 411.875x360 with 1 Axes>"
      ]
     },
     "metadata": {
      "needs_background": "light"
     },
     "output_type": "display_data"
    },
    {
     "data": {
      "text/plain": [
       "<Figure size 576x504 with 0 Axes>"
      ]
     },
     "metadata": {},
     "output_type": "display_data"
    },
    {
     "data": {
      "image/png": "[encoded data removed]",
      "text/plain": [
       "<Figure size 411.875x360 with 1 Axes>"
      ]
     },
     "metadata": {
      "needs_background": "light"
     },
     "output_type": "display_data"
    }
   ],
   "source": [
    "# check the data distrubation respect to target\n",
    "for col in df_cols:\n",
    "    plt.figure(figsize=(8,7))\n",
    "    sns.displot(data=df,x=col,hue='target')\n",
    "    plt.show()"
   ]
  },
  {
   "cell_type": "markdown",
   "id": "enhanced-permission",
   "metadata": {},
   "source": [
    "## Split the features and label"
   ]
  },
  {
   "cell_type": "code",
   "execution_count": 18,
   "id": "indian-floating",
   "metadata": {},
   "outputs": [],
   "source": [
    "features = df.iloc[:,:-1]\n",
    "label = df.target"
   ]
  },
  {
   "cell_type": "code",
   "execution_count": 19,
   "id": "gothic-vegetarian",
   "metadata": {},
   "outputs": [
    {
     "data": {
      "text/html": [
       "<div>\n",
       "<style scoped>\n",
       "    .dataframe tbody tr th:only-of-type {\n",
       "        vertical-align: middle;\n",
       "    }\n",
       "\n",
       "    .dataframe tbody tr th {\n",
       "        vertical-align: top;\n",
       "    }\n",
       "\n",
       "    .dataframe thead th {\n",
       "        text-align: right;\n",
       "    }\n",
       "</style>\n",
       "<table border=\"1\" class=\"dataframe\">\n",
       "  <thead>\n",
       "    <tr style=\"text-align: right;\">\n",
       "      <th></th>\n",
       "      <th>sepal_length</th>\n",
       "      <th>sepal_width</th>\n",
       "      <th>petal_length</th>\n",
       "      <th>petal_width</th>\n",
       "    </tr>\n",
       "  </thead>\n",
       "  <tbody>\n",
       "    <tr>\n",
       "      <th>0</th>\n",
       "      <td>5.1</td>\n",
       "      <td>3.5</td>\n",
       "      <td>1.4</td>\n",
       "      <td>0.2</td>\n",
       "    </tr>\n",
       "    <tr>\n",
       "      <th>1</th>\n",
       "      <td>4.9</td>\n",
       "      <td>3.0</td>\n",
       "      <td>1.4</td>\n",
       "      <td>0.2</td>\n",
       "    </tr>\n",
       "    <tr>\n",
       "      <th>2</th>\n",
       "      <td>4.7</td>\n",
       "      <td>3.2</td>\n",
       "      <td>1.3</td>\n",
       "      <td>0.2</td>\n",
       "    </tr>\n",
       "  </tbody>\n",
       "</table>\n",
       "</div>"
      ],
      "text/plain": [
       "   sepal_length  sepal_width  petal_length  petal_width\n",
       "0           5.1          3.5           1.4          0.2\n",
       "1           4.9          3.0           1.4          0.2\n",
       "2           4.7          3.2           1.3          0.2"
      ]
     },
     "execution_count": 19,
     "metadata": {},
     "output_type": "execute_result"
    }
   ],
   "source": [
    "features.head(3)"
   ]
  },
  {
   "cell_type": "code",
   "execution_count": 20,
   "id": "critical-crazy",
   "metadata": {},
   "outputs": [
    {
     "data": {
      "text/plain": [
       "0    0.0\n",
       "1    0.0\n",
       "2    0.0\n",
       "3    0.0\n",
       "4    0.0\n",
       "Name: target, dtype: float64"
      ]
     },
     "execution_count": 20,
     "metadata": {},
     "output_type": "execute_result"
    }
   ],
   "source": [
    "label.head()"
   ]
  },
  {
   "cell_type": "markdown",
   "id": "stuffed-tonight",
   "metadata": {},
   "source": [
    "## Split in train and test set"
   ]
  },
  {
   "cell_type": "code",
   "execution_count": 21,
   "id": "sweet-utilization",
   "metadata": {},
   "outputs": [],
   "source": [
    "xtrain,xtest,ytrain,ytest = train_test_split(features,label,test_size=0.2,random_state=1)"
   ]
  },
  {
   "cell_type": "code",
   "execution_count": 22,
   "id": "centered-latin",
   "metadata": {},
   "outputs": [
    {
     "data": {
      "text/html": [
       "<div>\n",
       "<style scoped>\n",
       "    .dataframe tbody tr th:only-of-type {\n",
       "        vertical-align: middle;\n",
       "    }\n",
       "\n",
       "    .dataframe tbody tr th {\n",
       "        vertical-align: top;\n",
       "    }\n",
       "\n",
       "    .dataframe thead th {\n",
       "        text-align: right;\n",
       "    }\n",
       "</style>\n",
       "<table border=\"1\" class=\"dataframe\">\n",
       "  <thead>\n",
       "    <tr style=\"text-align: right;\">\n",
       "      <th></th>\n",
       "      <th>sepal_length</th>\n",
       "      <th>sepal_width</th>\n",
       "      <th>petal_length</th>\n",
       "      <th>petal_width</th>\n",
       "    </tr>\n",
       "  </thead>\n",
       "  <tbody>\n",
       "    <tr>\n",
       "      <th>91</th>\n",
       "      <td>6.1</td>\n",
       "      <td>3.0</td>\n",
       "      <td>4.6</td>\n",
       "      <td>1.4</td>\n",
       "    </tr>\n",
       "    <tr>\n",
       "      <th>135</th>\n",
       "      <td>7.7</td>\n",
       "      <td>3.0</td>\n",
       "      <td>6.1</td>\n",
       "      <td>2.3</td>\n",
       "    </tr>\n",
       "    <tr>\n",
       "      <th>69</th>\n",
       "      <td>5.6</td>\n",
       "      <td>2.5</td>\n",
       "      <td>3.9</td>\n",
       "      <td>1.1</td>\n",
       "    </tr>\n",
       "    <tr>\n",
       "      <th>128</th>\n",
       "      <td>6.4</td>\n",
       "      <td>2.8</td>\n",
       "      <td>5.6</td>\n",
       "      <td>2.1</td>\n",
       "    </tr>\n",
       "    <tr>\n",
       "      <th>114</th>\n",
       "      <td>5.8</td>\n",
       "      <td>2.8</td>\n",
       "      <td>5.1</td>\n",
       "      <td>2.4</td>\n",
       "    </tr>\n",
       "  </tbody>\n",
       "</table>\n",
       "</div>"
      ],
      "text/plain": [
       "     sepal_length  sepal_width  petal_length  petal_width\n",
       "91            6.1          3.0           4.6          1.4\n",
       "135           7.7          3.0           6.1          2.3\n",
       "69            5.6          2.5           3.9          1.1\n",
       "128           6.4          2.8           5.6          2.1\n",
       "114           5.8          2.8           5.1          2.4"
      ]
     },
     "execution_count": 22,
     "metadata": {},
     "output_type": "execute_result"
    }
   ],
   "source": [
    "xtrain.head()"
   ]
  },
  {
   "cell_type": "code",
   "execution_count": 23,
   "id": "fourth-master",
   "metadata": {},
   "outputs": [
    {
     "name": "stdout",
     "output_type": "stream",
     "text": [
      "xtrain shape: (120, 4)\n",
      "xtrain shape: (30, 4)\n",
      "xtrain shape: (120,)\n",
      "xtrain shape: (30,)\n"
     ]
    }
   ],
   "source": [
    "print(f\"xtrain shape: {xtrain.shape}\")\n",
    "print(f\"xtrain shape: {xtest.shape}\")\n",
    "print(f\"xtrain shape: {ytrain.shape}\")\n",
    "print(f\"xtrain shape: {ytest.shape}\")"
   ]
  },
  {
   "cell_type": "code",
   "execution_count": 24,
   "id": "distinguished-point",
   "metadata": {},
   "outputs": [],
   "source": [
    "xtrain2,xtest2,ytrain2,ytest2 = train_test_split(features,label,test_size=0.2,random_state=1)"
   ]
  },
  {
   "cell_type": "code",
   "execution_count": 25,
   "id": "major-diversity",
   "metadata": {},
   "outputs": [
    {
     "data": {
      "text/html": [
       "<div>\n",
       "<style scoped>\n",
       "    .dataframe tbody tr th:only-of-type {\n",
       "        vertical-align: middle;\n",
       "    }\n",
       "\n",
       "    .dataframe tbody tr th {\n",
       "        vertical-align: top;\n",
       "    }\n",
       "\n",
       "    .dataframe thead th {\n",
       "        text-align: right;\n",
       "    }\n",
       "</style>\n",
       "<table border=\"1\" class=\"dataframe\">\n",
       "  <thead>\n",
       "    <tr style=\"text-align: right;\">\n",
       "      <th></th>\n",
       "      <th>sepal_length</th>\n",
       "      <th>sepal_width</th>\n",
       "      <th>petal_length</th>\n",
       "      <th>petal_width</th>\n",
       "    </tr>\n",
       "  </thead>\n",
       "  <tbody>\n",
       "    <tr>\n",
       "      <th>91</th>\n",
       "      <td>6.1</td>\n",
       "      <td>3.0</td>\n",
       "      <td>4.6</td>\n",
       "      <td>1.4</td>\n",
       "    </tr>\n",
       "    <tr>\n",
       "      <th>135</th>\n",
       "      <td>7.7</td>\n",
       "      <td>3.0</td>\n",
       "      <td>6.1</td>\n",
       "      <td>2.3</td>\n",
       "    </tr>\n",
       "  </tbody>\n",
       "</table>\n",
       "</div>"
      ],
      "text/plain": [
       "     sepal_length  sepal_width  petal_length  petal_width\n",
       "91            6.1          3.0           4.6          1.4\n",
       "135           7.7          3.0           6.1          2.3"
      ]
     },
     "execution_count": 25,
     "metadata": {},
     "output_type": "execute_result"
    }
   ],
   "source": [
    "xtrain2.head(2)"
   ]
  },
  {
   "cell_type": "code",
   "execution_count": 26,
   "id": "cardiac-marble",
   "metadata": {},
   "outputs": [
    {
     "data": {
      "text/plain": [
       "91     1.0\n",
       "135    2.0\n",
       "Name: target, dtype: float64"
      ]
     },
     "execution_count": 26,
     "metadata": {},
     "output_type": "execute_result"
    }
   ],
   "source": [
    "ytrain2.head(2)"
   ]
  },
  {
   "cell_type": "markdown",
   "id": "mobile-multimedia",
   "metadata": {},
   "source": [
    "### Scaling the test data"
   ]
  },
  {
   "cell_type": "code",
   "execution_count": 27,
   "id": "persistent-cylinder",
   "metadata": {},
   "outputs": [],
   "source": [
    "scale = StandardScaler()"
   ]
  },
  {
   "cell_type": "code",
   "execution_count": 28,
   "id": "municipal-george",
   "metadata": {},
   "outputs": [],
   "source": [
    "xtrain = scale.fit_transform(X= xtrain)\n",
    "xtest = scale.transform(X= xtest)"
   ]
  },
  {
   "cell_type": "code",
   "execution_count": 29,
   "id": "caring-bookmark",
   "metadata": {},
   "outputs": [
    {
     "data": {
      "text/plain": [
       "array([[ 0.31553662, -0.04578885,  0.44767531,  0.23380268],\n",
       "       [ 2.2449325 , -0.04578885,  1.29769171,  1.39742892],\n",
       "       [-0.2873996 , -1.24028061,  0.05100098, -0.15407273],\n",
       "       [ 0.67729835, -0.52358555,  1.01435291,  1.13884531],\n",
       "       [-0.04622511, -0.52358555,  0.73101411,  1.52672073],\n",
       "       [-0.64916132,  1.62649961, -1.30902526, -1.31769898],\n",
       "       [-0.40798684, -1.71807731,  0.10766874,  0.10451088],\n",
       "       [-0.76974857,  0.90980456, -1.36569302, -1.31769898],\n",
       "       [ 0.79788559, -0.52358555,  0.44767531,  0.36309449],\n",
       "       [ 1.03906007, -1.24028061,  1.12768843,  0.7509699 ],\n",
       "       [ 1.15964732, -0.04578885,  0.95768515,  1.13884531],\n",
       "       [-0.89033581,  1.14870291, -1.36569302, -1.18840717],\n",
       "       [ 0.19494938, -1.95697567,  0.67434635,  0.36309449],\n",
       "       [ 0.5567111 , -0.2846872 ,  1.01435291,  0.7509699 ],\n",
       "       [ 0.91847283, -0.2846872 ,  0.44767531,  0.10451088],\n",
       "       [ 2.2449325 , -1.00138226,  1.75103379,  1.39742892],\n",
       "       [-0.16681235,  1.86539796, -1.19568974, -1.18840717],\n",
       "       [-1.01092305,  1.38760126, -1.36569302, -1.31769898],\n",
       "       [-1.25209754, -0.04578885, -1.36569302, -1.18840717],\n",
       "       [-0.76974857, -0.76248391,  0.05100098,  0.23380268],\n",
       "       [-0.89033581,  0.90980456, -1.30902526, -1.31769898],\n",
       "       [-0.40798684,  1.14870291, -1.42236078, -1.31769898],\n",
       "       [ 2.2449325 ,  1.86539796,  1.63769827,  1.26813712],\n",
       "       [ 1.28023456,  0.1931095 ,  0.90101739,  1.13884531],\n",
       "       [ 1.76258353, -0.2846872 ,  1.41102723,  0.7509699 ],\n",
       "       [ 0.67729835, -0.52358555,  1.01435291,  1.26813712],\n",
       "       [ 0.43612386, -0.52358555,  0.56101083,  0.7509699 ],\n",
       "       [ 0.19494938,  0.90980456,  0.39100755,  0.49238629],\n",
       "       [ 2.2449325 , -0.52358555,  1.63769827,  1.00955351],\n",
       "       [-0.16681235, -0.04578885,  0.22100426, -0.02478093],\n",
       "       [-1.25209754,  0.90980456, -1.2523575 , -1.31769898],\n",
       "       [-0.16681235, -1.24028061,  0.67434635,  1.00955351],\n",
       "       [ 0.5567111 , -0.76248391,  0.61767859,  0.7509699 ],\n",
       "       [-1.25209754, -0.04578885, -1.36569302, -1.44699078],\n",
       "       [-1.37268478,  0.43200785, -1.42236078, -1.31769898],\n",
       "       [ 0.79788559, -0.04578885,  1.12768843,  1.26813712],\n",
       "       [-1.49327202,  0.90980456, -1.36569302, -1.18840717],\n",
       "       [ 0.31553662, -0.04578885,  0.61767859,  0.7509699 ],\n",
       "       [ 0.79788559,  0.43200785,  0.73101411,  1.00955351],\n",
       "       [ 1.03906007,  0.1931095 ,  0.33433978,  0.23380268],\n",
       "       [-0.16681235, -0.52358555,  0.39100755,  0.10451088],\n",
       "       [ 1.03906007,  0.6709062 ,  1.07102067,  1.65601253],\n",
       "       [ 0.19494938, -0.04578885,  0.56101083,  0.7509699 ],\n",
       "       [-0.89033581,  1.86539796, -1.2523575 , -1.31769898],\n",
       "       [ 0.19494938, -1.95697567,  0.10766874, -0.28336454],\n",
       "       [ 0.67729835, -0.2846872 ,  0.27767202,  0.10451088],\n",
       "       [ 0.79788559, -0.04578885,  0.95768515,  0.7509699 ],\n",
       "       [-1.01092305, -1.71807731, -0.28900558, -0.28336454],\n",
       "       [ 0.5567111 ,  0.6709062 ,  1.24102395,  1.65601253],\n",
       "       [-0.40798684, -1.24028061,  0.10766874,  0.10451088],\n",
       "       [-0.52857408,  1.62649961, -1.30902526, -1.31769898],\n",
       "       [-1.13151029,  0.1931095 , -1.30902526, -1.31769898],\n",
       "       [-0.76974857,  2.58209302, -1.30902526, -1.44699078],\n",
       "       [ 1.03906007,  0.6709062 ,  1.07102067,  1.13884531],\n",
       "       [-1.73444651, -0.04578885, -1.42236078, -1.31769898],\n",
       "       [ 0.19494938, -0.76248391,  0.73101411,  0.49238629],\n",
       "       [ 0.67729835, -0.76248391,  0.84434963,  0.8802617 ],\n",
       "       [ 0.07436213, -0.04578885,  0.73101411,  0.7509699 ],\n",
       "       [-0.76974857,  1.14870291, -1.30902526, -1.31769898],\n",
       "       [-0.89033581,  0.6709062 , -1.19568974, -0.92982356],\n",
       "       [-0.04622511, -0.76248391,  0.1643365 , -0.28336454],\n",
       "       [-1.13151029,  0.1931095 , -1.30902526, -1.44699078],\n",
       "       [ 1.88317077, -0.52358555,  1.29769171,  0.8802617 ],\n",
       "       [ 0.43612386, -0.2846872 ,  0.27767202,  0.10451088],\n",
       "       [ 2.12434526, -0.04578885,  1.58103051,  1.13884531],\n",
       "       [ 1.03906007, -0.04578885,  0.78768187,  1.39742892],\n",
       "       [ 0.5567111 , -1.71807731,  0.33433978,  0.10451088],\n",
       "       [ 0.43612386,  0.90980456,  0.90101739,  1.39742892],\n",
       "       [ 1.64199629,  1.38760126,  1.29769171,  1.65601253],\n",
       "       [-0.2873996 , -0.2846872 , -0.1190023 ,  0.10451088],\n",
       "       [-0.16681235,  3.29878808, -1.30902526, -1.05911537],\n",
       "       [-0.04622511, -0.76248391,  0.05100098, -0.02478093],\n",
       "       [-1.61385927, -1.71807731, -1.42236078, -1.18840717],\n",
       "       [-0.40798684, -1.47917896, -0.00566678, -0.15407273],\n",
       "       [ 1.28023456,  0.1931095 ,  0.61767859,  0.36309449],\n",
       "       [-1.01092305,  0.90980456, -1.2523575 , -1.05911537],\n",
       "       [ 1.15964732, -0.52358555,  0.56101083,  0.23380268],\n",
       "       [-1.01092305,  1.14870291, -1.2523575 , -0.80053176],\n",
       "       [-1.25209754,  0.90980456, -1.08235422, -1.31769898],\n",
       "       [ 0.5567111 ,  0.90980456,  1.01435291,  1.52672073],\n",
       "       [-0.2873996 , -0.52358555,  0.61767859,  1.00955351],\n",
       "       [ 1.15964732,  0.43200785,  1.18435619,  1.39742892],\n",
       "       [-1.01092305,  0.6709062 , -1.36569302, -1.31769898],\n",
       "       [-0.89033581,  1.62649961, -1.30902526, -1.05911537],\n",
       "       [ 0.07436213,  0.43200785,  0.56101083,  0.7509699 ],\n",
       "       [-1.49327202,  0.1931095 , -1.30902526, -1.31769898],\n",
       "       [-0.04622511, -0.76248391,  0.73101411,  0.8802617 ],\n",
       "       [-1.25209754,  0.1931095 , -1.2523575 , -1.31769898],\n",
       "       [ 0.79788559, -0.04578885,  0.78768187,  1.00955351],\n",
       "       [-1.13151029, -1.24028061,  0.39100755,  0.62167809],\n",
       "       [-1.49327202,  0.43200785, -1.36569302, -1.31769898],\n",
       "       [ 0.67729835,  0.43200785,  0.84434963,  1.39742892],\n",
       "       [-1.85503375, -0.04578885, -1.5356963 , -1.44699078],\n",
       "       [-0.2873996 , -0.04578885,  0.1643365 ,  0.10451088],\n",
       "       [-1.73444651, -0.2846872 , -1.36569302, -1.31769898],\n",
       "       [-0.40798684, -1.47917896, -0.06233454, -0.28336454],\n",
       "       [-1.01092305, -2.43477237, -0.17567006, -0.28336454],\n",
       "       [-0.89033581,  1.14870291, -1.36569302, -1.31769898],\n",
       "       [-1.13151029, -0.04578885, -1.36569302, -1.31769898],\n",
       "       [-1.13151029, -1.47917896, -0.28900558, -0.28336454],\n",
       "       [-1.49327202,  1.38760126, -1.59236406, -1.31769898],\n",
       "       [ 0.07436213, -0.04578885,  0.22100426,  0.36309449],\n",
       "       [ 0.31553662, -0.2846872 ,  0.50434307,  0.23380268],\n",
       "       [-1.01092305,  0.90980456, -1.30902526, -1.31769898],\n",
       "       [ 1.03906007,  0.1931095 ,  0.50434307,  0.36309449],\n",
       "       [-0.16681235, -0.2846872 ,  0.22100426,  0.10451088],\n",
       "       [ 0.43612386, -1.95697567,  0.39100755,  0.36309449],\n",
       "       [ 1.4008218 ,  0.43200785,  0.50434307,  0.23380268],\n",
       "       [-0.04622511, -0.76248391,  0.73101411,  0.8802617 ],\n",
       "       [-0.52857408,  0.90980456, -1.19568974, -1.31769898],\n",
       "       [-1.01092305, -0.04578885, -1.2523575 , -1.31769898],\n",
       "       [ 0.31553662, -1.00138226,  1.01435291,  0.23380268],\n",
       "       [ 0.31553662, -0.52358555,  0.10766874,  0.10451088],\n",
       "       [ 1.64199629, -0.04578885,  1.12768843,  0.49238629],\n",
       "       [-0.16681235, -1.00138226, -0.17567006, -0.28336454],\n",
       "       [ 0.5567111 , -0.52358555,  0.73101411,  0.36309449],\n",
       "       [ 0.67729835,  0.1931095 ,  0.95768515,  0.7509699 ],\n",
       "       [ 0.5567111 , -1.24028061,  0.61767859,  0.36309449],\n",
       "       [ 1.03906007,  0.1931095 ,  1.01435291,  1.52672073],\n",
       "       [-1.13151029,  1.38760126, -1.36569302, -1.44699078]])"
      ]
     },
     "execution_count": 29,
     "metadata": {},
     "output_type": "execute_result"
    }
   ],
   "source": [
    "xtrain"
   ]
  },
  {
   "cell_type": "code",
   "execution_count": 30,
   "id": "expanded-number",
   "metadata": {},
   "outputs": [],
   "source": [
    "# another way to scaling\n",
    "col_names = ['sepal_length','sepal_width','petal_length','petal_width']\n",
    "new_features = features[col_names]"
   ]
  },
  {
   "cell_type": "code",
   "execution_count": 31,
   "id": "nasty-membrane",
   "metadata": {},
   "outputs": [
    {
     "data": {
      "text/html": [
       "<div>\n",
       "<style scoped>\n",
       "    .dataframe tbody tr th:only-of-type {\n",
       "        vertical-align: middle;\n",
       "    }\n",
       "\n",
       "    .dataframe tbody tr th {\n",
       "        vertical-align: top;\n",
       "    }\n",
       "\n",
       "    .dataframe thead th {\n",
       "        text-align: right;\n",
       "    }\n",
       "</style>\n",
       "<table border=\"1\" class=\"dataframe\">\n",
       "  <thead>\n",
       "    <tr style=\"text-align: right;\">\n",
       "      <th></th>\n",
       "      <th>sepal_length</th>\n",
       "      <th>sepal_width</th>\n",
       "      <th>petal_length</th>\n",
       "      <th>petal_width</th>\n",
       "    </tr>\n",
       "  </thead>\n",
       "  <tbody>\n",
       "    <tr>\n",
       "      <th>0</th>\n",
       "      <td>5.1</td>\n",
       "      <td>3.5</td>\n",
       "      <td>1.4</td>\n",
       "      <td>0.2</td>\n",
       "    </tr>\n",
       "    <tr>\n",
       "      <th>1</th>\n",
       "      <td>4.9</td>\n",
       "      <td>3.0</td>\n",
       "      <td>1.4</td>\n",
       "      <td>0.2</td>\n",
       "    </tr>\n",
       "    <tr>\n",
       "      <th>2</th>\n",
       "      <td>4.7</td>\n",
       "      <td>3.2</td>\n",
       "      <td>1.3</td>\n",
       "      <td>0.2</td>\n",
       "    </tr>\n",
       "  </tbody>\n",
       "</table>\n",
       "</div>"
      ],
      "text/plain": [
       "   sepal_length  sepal_width  petal_length  petal_width\n",
       "0           5.1          3.5           1.4          0.2\n",
       "1           4.9          3.0           1.4          0.2\n",
       "2           4.7          3.2           1.3          0.2"
      ]
     },
     "execution_count": 31,
     "metadata": {},
     "output_type": "execute_result"
    }
   ],
   "source": [
    "new_features.head(3)"
   ]
  },
  {
   "cell_type": "code",
   "execution_count": 32,
   "id": "extraordinary-craft",
   "metadata": {},
   "outputs": [],
   "source": [
    "scale2 = StandardScaler()"
   ]
  },
  {
   "cell_type": "code",
   "execution_count": 33,
   "id": "altered-geometry",
   "metadata": {},
   "outputs": [],
   "source": [
    "new_features[col_names] = scale2.fit_transform(new_features.values)"
   ]
  },
  {
   "cell_type": "code",
   "execution_count": 34,
   "id": "earned-david",
   "metadata": {},
   "outputs": [
    {
     "data": {
      "text/html": [
       "<div>\n",
       "<style scoped>\n",
       "    .dataframe tbody tr th:only-of-type {\n",
       "        vertical-align: middle;\n",
       "    }\n",
       "\n",
       "    .dataframe tbody tr th {\n",
       "        vertical-align: top;\n",
       "    }\n",
       "\n",
       "    .dataframe thead th {\n",
       "        text-align: right;\n",
       "    }\n",
       "</style>\n",
       "<table border=\"1\" class=\"dataframe\">\n",
       "  <thead>\n",
       "    <tr style=\"text-align: right;\">\n",
       "      <th></th>\n",
       "      <th>sepal_length</th>\n",
       "      <th>sepal_width</th>\n",
       "      <th>petal_length</th>\n",
       "      <th>petal_width</th>\n",
       "    </tr>\n",
       "  </thead>\n",
       "  <tbody>\n",
       "    <tr>\n",
       "      <th>0</th>\n",
       "      <td>-0.900681</td>\n",
       "      <td>1.019004</td>\n",
       "      <td>-1.340227</td>\n",
       "      <td>-1.315444</td>\n",
       "    </tr>\n",
       "    <tr>\n",
       "      <th>1</th>\n",
       "      <td>-1.143017</td>\n",
       "      <td>-0.131979</td>\n",
       "      <td>-1.340227</td>\n",
       "      <td>-1.315444</td>\n",
       "    </tr>\n",
       "    <tr>\n",
       "      <th>2</th>\n",
       "      <td>-1.385353</td>\n",
       "      <td>0.328414</td>\n",
       "      <td>-1.397064</td>\n",
       "      <td>-1.315444</td>\n",
       "    </tr>\n",
       "  </tbody>\n",
       "</table>\n",
       "</div>"
      ],
      "text/plain": [
       "   sepal_length  sepal_width  petal_length  petal_width\n",
       "0     -0.900681     1.019004     -1.340227    -1.315444\n",
       "1     -1.143017    -0.131979     -1.340227    -1.315444\n",
       "2     -1.385353     0.328414     -1.397064    -1.315444"
      ]
     },
     "execution_count": 34,
     "metadata": {},
     "output_type": "execute_result"
    }
   ],
   "source": [
    "new_features.head(3)"
   ]
  },
  {
   "cell_type": "markdown",
   "id": "respiratory-seeking",
   "metadata": {},
   "source": [
    "### Model selection\n",
    "Without scaling"
   ]
  },
  {
   "cell_type": "code",
   "execution_count": 35,
   "id": "prepared-socket",
   "metadata": {},
   "outputs": [],
   "source": [
    "model_params = {\n",
    "    'svm' : {\n",
    "        'model' : SVC(gamma='auto'),\n",
    "        'params' : {\n",
    "            'C' : [1,3,10,20],\n",
    "            'kernel' : ['rbf','linear']\n",
    "        }\n",
    "    },\n",
    "    'random_forest' : {\n",
    "        'model' : RandomForestClassifier(),\n",
    "        'params' : {\n",
    "            'n_estimators' : [10,20,100,150]\n",
    "        }\n",
    "    },\n",
    "    'neighbors' : {\n",
    "        'model' : KNeighborsClassifier(),\n",
    "        'params' : {\n",
    "            'n_neighbors' : [5,10,15],\n",
    "            'leaf_size' : [15,20,30]\n",
    "        }\n",
    "    }\n",
    "}"
   ]
  },
  {
   "cell_type": "code",
   "execution_count": 36,
   "id": "solar-bristol",
   "metadata": {},
   "outputs": [],
   "source": [
    "scores = []\n",
    "\n",
    "for model_name, model in model_params.items():\n",
    "    clf = GridSearchCV(estimator= model['model'], param_grid= model['params'],cv=5,n_jobs=-1)\n",
    "    clf.fit(xtrain2,ytrain2)\n",
    "    scores.append({\n",
    "        'model' : model_name,\n",
    "        'best_score' : clf.best_score_,\n",
    "        'best_params' : clf.best_params_\n",
    "    })"
   ]
  },
  {
   "cell_type": "code",
   "execution_count": 37,
   "id": "sized-analyst",
   "metadata": {},
   "outputs": [
    {
     "data": {
      "text/html": [
       "<div>\n",
       "<style scoped>\n",
       "    .dataframe tbody tr th:only-of-type {\n",
       "        vertical-align: middle;\n",
       "    }\n",
       "\n",
       "    .dataframe tbody tr th {\n",
       "        vertical-align: top;\n",
       "    }\n",
       "\n",
       "    .dataframe thead th {\n",
       "        text-align: right;\n",
       "    }\n",
       "</style>\n",
       "<table border=\"1\" class=\"dataframe\">\n",
       "  <thead>\n",
       "    <tr style=\"text-align: right;\">\n",
       "      <th></th>\n",
       "      <th>model</th>\n",
       "      <th>best_score</th>\n",
       "      <th>best_params</th>\n",
       "    </tr>\n",
       "  </thead>\n",
       "  <tbody>\n",
       "    <tr>\n",
       "      <th>0</th>\n",
       "      <td>svm</td>\n",
       "      <td>0.983333</td>\n",
       "      <td>{'C': 1, 'kernel': 'linear'}</td>\n",
       "    </tr>\n",
       "    <tr>\n",
       "      <th>1</th>\n",
       "      <td>random_forest</td>\n",
       "      <td>0.941667</td>\n",
       "      <td>{'n_estimators': 150}</td>\n",
       "    </tr>\n",
       "    <tr>\n",
       "      <th>2</th>\n",
       "      <td>neighbors</td>\n",
       "      <td>0.966667</td>\n",
       "      <td>{'leaf_size': 15, 'n_neighbors': 15}</td>\n",
       "    </tr>\n",
       "  </tbody>\n",
       "</table>\n",
       "</div>"
      ],
      "text/plain": [
       "           model  best_score                           best_params\n",
       "0            svm    0.983333          {'C': 1, 'kernel': 'linear'}\n",
       "1  random_forest    0.941667                 {'n_estimators': 150}\n",
       "2      neighbors    0.966667  {'leaf_size': 15, 'n_neighbors': 15}"
      ]
     },
     "execution_count": 37,
     "metadata": {},
     "output_type": "execute_result"
    }
   ],
   "source": [
    "model_df = pd.DataFrame(scores,columns=['model','best_score','best_params'])\n",
    "model_df"
   ]
  },
  {
   "cell_type": "markdown",
   "id": "wired-database",
   "metadata": {},
   "source": [
    "### Model selection with scaling"
   ]
  },
  {
   "cell_type": "code",
   "execution_count": 38,
   "id": "universal-murder",
   "metadata": {},
   "outputs": [],
   "source": [
    "scores2 = []\n",
    "\n",
    "for model_name, model in model_params.items():\n",
    "    clf = GridSearchCV(estimator= model['model'], param_grid= model['params'],cv=5,n_jobs=-1)\n",
    "    clf.fit(xtrain,ytrain)\n",
    "    scores2.append({\n",
    "        'model' : model_name,\n",
    "        'best_score' : clf.best_score_,\n",
    "        'best_params' : clf.best_params_\n",
    "    })"
   ]
  },
  {
   "cell_type": "code",
   "execution_count": 39,
   "id": "behind-reading",
   "metadata": {},
   "outputs": [
    {
     "data": {
      "text/html": [
       "<div>\n",
       "<style scoped>\n",
       "    .dataframe tbody tr th:only-of-type {\n",
       "        vertical-align: middle;\n",
       "    }\n",
       "\n",
       "    .dataframe tbody tr th {\n",
       "        vertical-align: top;\n",
       "    }\n",
       "\n",
       "    .dataframe thead th {\n",
       "        text-align: right;\n",
       "    }\n",
       "</style>\n",
       "<table border=\"1\" class=\"dataframe\">\n",
       "  <thead>\n",
       "    <tr style=\"text-align: right;\">\n",
       "      <th></th>\n",
       "      <th>model</th>\n",
       "      <th>best_score</th>\n",
       "      <th>best_params</th>\n",
       "    </tr>\n",
       "  </thead>\n",
       "  <tbody>\n",
       "    <tr>\n",
       "      <th>0</th>\n",
       "      <td>svm</td>\n",
       "      <td>0.975000</td>\n",
       "      <td>{'C': 1, 'kernel': 'linear'}</td>\n",
       "    </tr>\n",
       "    <tr>\n",
       "      <th>1</th>\n",
       "      <td>random_forest</td>\n",
       "      <td>0.933333</td>\n",
       "      <td>{'n_estimators': 20}</td>\n",
       "    </tr>\n",
       "    <tr>\n",
       "      <th>2</th>\n",
       "      <td>neighbors</td>\n",
       "      <td>0.950000</td>\n",
       "      <td>{'leaf_size': 15, 'n_neighbors': 15}</td>\n",
       "    </tr>\n",
       "  </tbody>\n",
       "</table>\n",
       "</div>"
      ],
      "text/plain": [
       "           model  best_score                           best_params\n",
       "0            svm    0.975000          {'C': 1, 'kernel': 'linear'}\n",
       "1  random_forest    0.933333                  {'n_estimators': 20}\n",
       "2      neighbors    0.950000  {'leaf_size': 15, 'n_neighbors': 15}"
      ]
     },
     "execution_count": 39,
     "metadata": {},
     "output_type": "execute_result"
    }
   ],
   "source": [
    "model_df2 = pd.DataFrame(scores2,columns=['model','best_score','best_params'])\n",
    "model_df2"
   ]
  },
  {
   "cell_type": "markdown",
   "id": "fleet-surgery",
   "metadata": {},
   "source": [
    "### Selected best Model"
   ]
  },
  {
   "cell_type": "code",
   "execution_count": 40,
   "id": "defined-essence",
   "metadata": {},
   "outputs": [],
   "source": [
    "svc_model = SVC(gamma='auto',C=1,kernel='linear')"
   ]
  },
  {
   "cell_type": "code",
   "execution_count": 41,
   "id": "loose-standard",
   "metadata": {},
   "outputs": [
    {
     "data": {
      "text/plain": [
       "SVC(C=1, gamma='auto', kernel='linear')"
      ]
     },
     "execution_count": 41,
     "metadata": {},
     "output_type": "execute_result"
    }
   ],
   "source": [
    "svc_model.fit(xtrain2,ytrain2)"
   ]
  },
  {
   "cell_type": "code",
   "execution_count": 42,
   "id": "featured-isaac",
   "metadata": {},
   "outputs": [
    {
     "data": {
      "text/plain": [
       "1.0"
      ]
     },
     "execution_count": 42,
     "metadata": {},
     "output_type": "execute_result"
    }
   ],
   "source": [
    "svc_model.score(xtest2,ytest2)"
   ]
  },
  {
   "cell_type": "code",
   "execution_count": 43,
   "id": "embedded-sharp",
   "metadata": {},
   "outputs": [
    {
     "data": {
      "text/plain": [
       "0.9833333333333333"
      ]
     },
     "execution_count": 43,
     "metadata": {},
     "output_type": "execute_result"
    }
   ],
   "source": [
    "svc_model.score(xtrain2,ytrain2)"
   ]
  },
  {
   "cell_type": "markdown",
   "id": "spread-gallery",
   "metadata": {},
   "source": [
    "### Now apply cross validation over the data that are without scale"
   ]
  },
  {
   "cell_type": "code",
   "execution_count": 44,
   "id": "outside-cocktail",
   "metadata": {},
   "outputs": [],
   "source": [
    "cross_val_score = cross_val_score(estimator=svc_model,X= features,y=label,cv=5,scoring='accuracy',n_jobs=-1)"
   ]
  },
  {
   "cell_type": "code",
   "execution_count": 45,
   "id": "funny-country",
   "metadata": {},
   "outputs": [
    {
     "data": {
      "text/plain": [
       "0.9800000000000001"
      ]
     },
     "execution_count": 45,
     "metadata": {},
     "output_type": "execute_result"
    }
   ],
   "source": [
    "cross_val_score.mean()"
   ]
  },
  {
   "cell_type": "code",
   "execution_count": 46,
   "id": "preceding-nutrition",
   "metadata": {},
   "outputs": [
    {
     "data": {
      "text/plain": [
       "array([0., 1., 1., 0., 2., 1., 2., 0., 0., 2., 1., 0., 2., 1., 1., 0., 1.,\n",
       "       1., 0., 0., 1., 1., 1., 0., 2., 1., 0., 0., 1., 2.])"
      ]
     },
     "execution_count": 46,
     "metadata": {},
     "output_type": "execute_result"
    }
   ],
   "source": [
    "y_pred = svc_model.predict(X=xtest2)\n",
    "y_pred"
   ]
  },
  {
   "cell_type": "code",
   "execution_count": 47,
   "id": "separated-indiana",
   "metadata": {},
   "outputs": [
    {
     "data": {
      "text/plain": [
       "array([[11,  0,  0],\n",
       "       [ 0, 13,  0],\n",
       "       [ 0,  0,  6]], dtype=int64)"
      ]
     },
     "execution_count": 47,
     "metadata": {},
     "output_type": "execute_result"
    }
   ],
   "source": [
    "# see confusion matrix\n",
    "\n",
    "confusion_mat = confusion_matrix(ytest2,y_pred)\n",
    "confusion_mat"
   ]
  },
  {
   "cell_type": "code",
   "execution_count": 48,
   "id": "incorrect-sector",
   "metadata": {},
   "outputs": [],
   "source": [
    "import pickle"
   ]
  },
  {
   "cell_type": "code",
   "execution_count": 49,
   "id": "beautiful-subcommittee",
   "metadata": {},
   "outputs": [],
   "source": [
    "# pickle.dump(svc_model,open('best_model.pkl','wb'))"
   ]
  },
  {
   "cell_type": "code",
   "execution_count": 50,
   "id": "wrapped-function",
   "metadata": {},
   "outputs": [],
   "source": [
    "test_model = pickle.load(open('best_model.pkl','rb'))"
   ]
  },
  {
   "cell_type": "code",
   "execution_count": 51,
   "id": "coordinated-munich",
   "metadata": {},
   "outputs": [
    {
     "data": {
      "text/plain": [
       "array([0.])"
      ]
     },
     "execution_count": 51,
     "metadata": {},
     "output_type": "execute_result"
    }
   ],
   "source": [
    "lis = [5.6,3.7,1.8,0.4]\n",
    "\n",
    "test_model.predict([lis])"
   ]
  },
  {
   "cell_type": "code",
   "execution_count": 52,
   "id": "differential-removal",
   "metadata": {},
   "outputs": [
    {
     "data": {
      "text/plain": [
       "{'num': 1}"
      ]
     },
     "execution_count": 52,
     "metadata": {},
     "output_type": "execute_result"
    }
   ],
   "source": [
    "a = {'num':int(1.0)}\n",
    "a"
   ]
  },
  {
   "cell_type": "code",
   "execution_count": 53,
   "id": "equivalent-cooking",
   "metadata": {},
   "outputs": [
    {
     "data": {
      "text/html": [
       "<div>\n",
       "<style scoped>\n",
       "    .dataframe tbody tr th:only-of-type {\n",
       "        vertical-align: middle;\n",
       "    }\n",
       "\n",
       "    .dataframe tbody tr th {\n",
       "        vertical-align: top;\n",
       "    }\n",
       "\n",
       "    .dataframe thead th {\n",
       "        text-align: right;\n",
       "    }\n",
       "</style>\n",
       "<table border=\"1\" class=\"dataframe\">\n",
       "  <thead>\n",
       "    <tr style=\"text-align: right;\">\n",
       "      <th></th>\n",
       "      <th>sepal_length</th>\n",
       "      <th>sepal_width</th>\n",
       "      <th>petal_length</th>\n",
       "      <th>petal_width</th>\n",
       "    </tr>\n",
       "  </thead>\n",
       "  <tbody>\n",
       "    <tr>\n",
       "      <th>14</th>\n",
       "      <td>5.8</td>\n",
       "      <td>4.0</td>\n",
       "      <td>1.2</td>\n",
       "      <td>0.2</td>\n",
       "    </tr>\n",
       "    <tr>\n",
       "      <th>98</th>\n",
       "      <td>5.1</td>\n",
       "      <td>2.5</td>\n",
       "      <td>3.0</td>\n",
       "      <td>1.1</td>\n",
       "    </tr>\n",
       "    <tr>\n",
       "      <th>75</th>\n",
       "      <td>6.6</td>\n",
       "      <td>3.0</td>\n",
       "      <td>4.4</td>\n",
       "      <td>1.4</td>\n",
       "    </tr>\n",
       "    <tr>\n",
       "      <th>16</th>\n",
       "      <td>5.4</td>\n",
       "      <td>3.9</td>\n",
       "      <td>1.3</td>\n",
       "      <td>0.4</td>\n",
       "    </tr>\n",
       "    <tr>\n",
       "      <th>131</th>\n",
       "      <td>7.9</td>\n",
       "      <td>3.8</td>\n",
       "      <td>6.4</td>\n",
       "      <td>2.0</td>\n",
       "    </tr>\n",
       "  </tbody>\n",
       "</table>\n",
       "</div>"
      ],
      "text/plain": [
       "     sepal_length  sepal_width  petal_length  petal_width\n",
       "14            5.8          4.0           1.2          0.2\n",
       "98            5.1          2.5           3.0          1.1\n",
       "75            6.6          3.0           4.4          1.4\n",
       "16            5.4          3.9           1.3          0.4\n",
       "131           7.9          3.8           6.4          2.0"
      ]
     },
     "execution_count": 53,
     "metadata": {},
     "output_type": "execute_result"
    }
   ],
   "source": [
    "xtest2.head()"
   ]
  },
  {
   "cell_type": "code",
   "execution_count": 54,
   "id": "completed-florist",
   "metadata": {},
   "outputs": [
    {
     "data": {
      "text/plain": [
       "14     0.0\n",
       "98     1.0\n",
       "75     1.0\n",
       "16     0.0\n",
       "131    2.0\n",
       "Name: target, dtype: float64"
      ]
     },
     "execution_count": 54,
     "metadata": {},
     "output_type": "execute_result"
    }
   ],
   "source": [
    "ytest2.head()"
   ]
  },
  {
   "cell_type": "code",
   "execution_count": null,
   "id": "oriental-sculpture",
   "metadata": {},
   "outputs": [],
   "source": []
  }
 ],
 "metadata": {
  "kernelspec": {
   "display_name": "Python 3",
   "language": "python",
   "name": "python3"
  },
  "language_info": {
   "codemirror_mode": {
    "name": "ipython",
    "version": 3
   },
   "file_extension": ".py",
   "mimetype": "text/x-python",
   "name": "python",
   "nbconvert_exporter": "python",
   "pygments_lexer": "ipython3",
   "version": "3.9.2"
  }
 },
 "nbformat": 4,
 "nbformat_minor": 5
}
